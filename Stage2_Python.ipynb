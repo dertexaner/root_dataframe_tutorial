{
 "cells": [
  {
   "cell_type": "markdown",
   "metadata": {},
   "source": [
    "# ROOT dataframe tutorial: Stage 2\n",
    "\n",
    "The ROOT dataframe tutorial shows you how to analyze datasets using `RDataFrame`. The example analysis performs the following steps:\n",
    "\n",
    "1. Connect a ROOT dataframe to a dataset containing 66 mio. events recorded by CMS in 2012\n",
    "2. Filter the events being relevant for your analysis\n",
    "3. Compute the invariant mass of the selected dimuon candidates\n",
    "4. Plot the invariant mass spectrum showing resonances up to the Z mass\n",
    "\n",
    "The notebook runs out-of-the-box. However, you are encouraged to tweak the code to see the effect on the result! \n",
    "\n",
    "Specific questions, which will improve your understanding of the technology, **are marked bold.**\n",
    "\n",
    "## Outline\n",
    "\n",
    "The full tutorial consists of three stages and shows you how to use ROOT dataframes ...\n",
    "\n",
    "0. ... in C++\n",
    "1. ... in Python (beginner)\n",
    "2. ... in Python (advanced)"
   ]
  },
  {
   "cell_type": "markdown",
   "metadata": {},
   "source": [
    "## Stage 2\n",
    "\n",
    "In the stage 1 of the tutorial, we have seen how you can inject C++ code in your computational expensive parts of the event loop. But this maybe not performant enough for your analysis. Therefore, you can learn in this part of the tutorial, how you can make your analysis toolchain even more efficient with precompiled C++ code and the C++ interpreter `cling`."
   ]
  },
  {
   "cell_type": "code",
   "execution_count": null,
   "metadata": {},
   "outputs": [],
   "source": [
    "import ROOT"
   ]
  },
  {
   "cell_type": "markdown",
   "metadata": {},
   "source": [
    "## Create the ROOT dataframe and filter the dataset\n",
    "\n",
    "This code is unchanged from the previous stage."
   ]
  },
  {
   "cell_type": "code",
   "execution_count": null,
   "metadata": {},
   "outputs": [],
   "source": [
    "files = ROOT.std.vector(\"string\")()\n",
    "files.push_back(\"root://eospublic.cern.ch//eos/root-eos/cms_opendata_2012_nanoaod/Run2012B_DoubleMuParked.root\")\n",
    "files.push_back(\"root://eospublic.cern.ch//eos/root-eos/cms_opendata_2012_nanoaod/Run2012C_DoubleMuParked.root\")\n",
    "df = ROOT.RDataFrame(\"Events\", files)"
   ]
  },
  {
   "cell_type": "code",
   "execution_count": null,
   "metadata": {},
   "outputs": [],
   "source": [
    "df_2mu = df.Filter(\"nMuon == 2\", \"Events with exactly two muons\")\n",
    "df_os = df_2mu.Filter(\"Muon_charge[0] != Muon_charge[1]\", \"Muons with opposite charge\")"
   ]
  },
  {
   "cell_type": "markdown",
   "metadata": {},
   "source": [
    "## Integrate optimized C++ code in the analysis\n",
    "\n",
    "In the following, we want to write optimized C++ code in an external library `libAnalysisCode.so` and include the functions there in the event loop.\n",
    "\n",
    "The library is placed in this directory and implements the function `compute_mass` such as used in the previous stages of the tutorial. In the cells below, you can have a look at the source code."
   ]
  },
  {
   "cell_type": "code",
   "execution_count": null,
   "metadata": {},
   "outputs": [],
   "source": [
    "%%bash\n",
    "cat AnalysisCode.hxx"
   ]
  },
  {
   "cell_type": "code",
   "execution_count": null,
   "metadata": {},
   "outputs": [],
   "source": [
    "%%bash\n",
    "cat AnalysisCode.cpp"
   ]
  },
  {
   "cell_type": "markdown",
   "metadata": {},
   "source": [
    "Next we compile the implemented function in a shared library.\n",
    "\n",
    "**Why is this more performant than jitting the code with `cling` such as done in stage 1 of the tutorial?**"
   ]
  },
  {
   "cell_type": "code",
   "execution_count": null,
   "metadata": {},
   "outputs": [],
   "source": [
    "%%bash\n",
    "g++ -Wall -fPIC -O3 -shared AnalysisCode.cpp -o libAnalysisCode.so `root-config --cflags --libs`"
   ]
  },
  {
   "cell_type": "markdown",
   "metadata": {},
   "source": [
    "To use external C++ code in the event loop, you need to introduce the library in `cling`. Each library contains two parts, the header file and the object file `lib*.so`. We register these using the following code and use them directly in the `Define` call."
   ]
  },
  {
   "cell_type": "code",
   "execution_count": null,
   "metadata": {},
   "outputs": [],
   "source": [
    "ROOT.gInterpreter.Declare('#include \"AnalysisCode.hxx\"')\n",
    "ROOT.gInterpreter.Load(\"libAnalysisCode.so\")\n",
    "df_mass = df_os.Define(\"Dimuon_mass\", \"compute_mass(Muon_pt, Muon_eta, Muon_phi, Muon_mass)\")"
   ]
  },
  {
   "cell_type": "markdown",
   "metadata": {},
   "source": [
    "## Make a histogram and draw the result\n",
    "\n",
    "The following code is unchanged to the previous stage of the tutorial.\n",
    "\n",
    "**Can you find the reason why the time spend in the event loop may not decrease in this example though the code is now more optimized?**"
   ]
  },
  {
   "cell_type": "code",
   "execution_count": null,
   "metadata": {},
   "outputs": [],
   "source": [
    "df_range = df_mass.Range(100000)"
   ]
  },
  {
   "cell_type": "code",
   "execution_count": null,
   "metadata": {},
   "outputs": [],
   "source": [
    "h = df_range.Histo1D((\"Dimuon_mass\", \"Dimuon_mass\", 30000, 0.25, 300), \"Dimuon_mass\")"
   ]
  },
  {
   "cell_type": "code",
   "execution_count": null,
   "metadata": {},
   "outputs": [],
   "source": [
    "report = df_range.Report()"
   ]
  },
  {
   "cell_type": "code",
   "execution_count": null,
   "metadata": {},
   "outputs": [],
   "source": [
    "%%time\n",
    "ROOT.gStyle.SetOptStat(0); ROOT.gStyle.SetTextFont(42)\n",
    "c = ROOT.TCanvas(\"c\", \"\", 800, 700)\n",
    "c.SetLogx(); c.SetLogy()\n",
    "h.SetTitle(\"\")\n",
    "h.GetXaxis().SetTitle(\"m_{#mu#mu} (GeV)\"); h.GetXaxis().SetTitleSize(0.04)\n",
    "h.GetYaxis().SetTitle(\"N_{Events}\"); h.GetYaxis().SetTitleSize(0.04)\n",
    "h.Draw()\n",
    "\n",
    "label = ROOT.TLatex(); label.SetNDC(True)\n",
    "label.SetTextSize(0.040); label.DrawLatex(0.100, 0.920, \"#bf{CMS Open Data}\")\n",
    "label.SetTextSize(0.030); label.DrawLatex(0.630, 0.920, \"#sqrt{s} = 8 TeV, L_{int} = 11.6 fb^{-1}\");"
   ]
  },
  {
   "cell_type": "code",
   "execution_count": null,
   "metadata": {},
   "outputs": [],
   "source": [
    "%jsroot on\n",
    "c.Draw()"
   ]
  },
  {
   "cell_type": "code",
   "execution_count": null,
   "metadata": {},
   "outputs": [],
   "source": [
    "report.Print()"
   ]
  },
  {
   "cell_type": "markdown",
   "metadata": {},
   "source": [
    "## Additional tasks\n",
    "\n",
    "Feel free to adapt the library and add additional functionality. For example, try to replace the jitted filters with precompiled functions from the library."
   ]
  }
 ],
 "metadata": {
  "kernelspec": {
   "display_name": "Python 2",
   "language": "python",
   "name": "python2"
  },
  "language_info": {
   "codemirror_mode": {
    "name": "ipython",
    "version": 2
   },
   "file_extension": ".py",
   "mimetype": "text/x-python",
   "name": "python",
   "nbconvert_exporter": "python",
   "pygments_lexer": "ipython2",
   "version": "2.7.12"
  }
 },
 "nbformat": 4,
 "nbformat_minor": 2
}
